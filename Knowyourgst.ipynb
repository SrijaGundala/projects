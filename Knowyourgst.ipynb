{
 "cells": [
  {
   "cell_type": "code",
   "execution_count": 3,
   "metadata": {
    "colab": {
     "base_uri": "https://localhost:8080/"
    },
    "id": "RqmfdUFDbXgb",
    "outputId": "6983c586-9222-4329-d9ad-e7b0ff07f51e"
   },
   "outputs": [
    {
     "name": "stdout",
     "output_type": "stream",
     "text": [
      "Requirement already satisfied: requests in c:\\users\\srija\\anaconda3\\lib\\site-packages (2.31.0)\n",
      "Requirement already satisfied: charset-normalizer<4,>=2 in c:\\users\\srija\\anaconda3\\lib\\site-packages (from requests) (2.0.4)\n",
      "Requirement already satisfied: idna<4,>=2.5 in c:\\users\\srija\\anaconda3\\lib\\site-packages (from requests) (3.4)\n",
      "Requirement already satisfied: urllib3<3,>=1.21.1 in c:\\users\\srija\\anaconda3\\lib\\site-packages (from requests) (2.0.7)\n",
      "Requirement already satisfied: certifi>=2017.4.17 in c:\\users\\srija\\anaconda3\\lib\\site-packages (from requests) (2024.7.4)\n",
      "Requirement already satisfied: BeautifulSoup4 in c:\\users\\srija\\anaconda3\\lib\\site-packages (4.12.2)\n",
      "Requirement already satisfied: soupsieve>1.2 in c:\\users\\srija\\anaconda3\\lib\\site-packages (from BeautifulSoup4) (2.5)\n"
     ]
    }
   ],
   "source": [
    "!pip install requests\n",
    "!pip install BeautifulSoup4"
   ]
  },
  {
   "cell_type": "code",
   "execution_count": 8,
   "metadata": {
    "colab": {
     "base_uri": "https://localhost:8080/"
    },
    "id": "UW-TYWBhhlHf",
    "outputId": "f0714af4-c021-4182-bb1e-121741190013"
   },
   "outputs": [
    {
     "ename": "NameError",
     "evalue": "name 'drive' is not defined",
     "output_type": "error",
     "traceback": [
      "\u001b[1;31m---------------------------------------------------------------------------\u001b[0m",
      "\u001b[1;31mNameError\u001b[0m                                 Traceback (most recent call last)",
      "Cell \u001b[1;32mIn[8], line 5\u001b[0m\n\u001b[0;32m      3\u001b[0m \u001b[38;5;28;01mfrom\u001b[39;00m \u001b[38;5;21;01mbs4\u001b[39;00m \u001b[38;5;28;01mimport\u001b[39;00m BeautifulSoup\n\u001b[0;32m      4\u001b[0m \u001b[38;5;66;03m# from google.colab import drive\u001b[39;00m\n\u001b[1;32m----> 5\u001b[0m drive\u001b[38;5;241m.\u001b[39mmount(\u001b[38;5;124m'\u001b[39m\u001b[38;5;124m/content/drive\u001b[39m\u001b[38;5;124m'\u001b[39m)\n",
      "\u001b[1;31mNameError\u001b[0m: name 'drive' is not defined"
     ]
    }
   ],
   "source": [
    "import requests\n",
    "import pandas as pd\n",
    "from bs4 import BeautifulSoup\n",
    "# from google.colab import drive\n",
    "drive.mount('/content/drive')"
   ]
  },
  {
   "cell_type": "code",
   "execution_count": null,
   "metadata": {
    "id": "3UtkJr5rkOI0"
   },
   "outputs": [],
   "source": [
    "excel_file_path = '/content/drive/My Drive/FILE1.xlsx'"
   ]
  },
  {
   "cell_type": "code",
   "execution_count": null,
   "metadata": {
    "colab": {
     "base_uri": "https://localhost:8080/"
    },
    "id": "hegBaf3rl5gk",
    "outputId": "a7ab84b5-5ec4-4257-8f05-489d354d9334"
   },
   "outputs": [],
   "source": [
    "df = pd.read_excel(excel_file_path)\n",
    "print(df)"
   ]
  },
  {
   "cell_type": "code",
   "execution_count": null,
   "metadata": {
    "colab": {
     "base_uri": "https://localhost:8080/"
    },
    "id": "J6-CtFCnmBpg",
    "outputId": "7d505265-1e4b-4de6-f598-d0fee1be5425"
   },
   "outputs": [
    {
     "name": "stdout",
     "output_type": "stream",
     "text": [
      "Company: chennai polygranite\n",
      "Result: Request failed with status code 404\n",
      "\n",
      "Company: chennai polymer products\n",
      "Result: Request failed with status code 404\n",
      "\n",
      "Company: chennai polymers pvt.ltd.\n",
      "Result: Request failed with status code 404\n",
      "\n",
      "Company: chennai polymer house\n",
      "Result: Request failed with status code 404\n",
      "\n",
      "Company: chennai polypack pvt ltd\n",
      "Result: Request failed with status code 404\n",
      "\n",
      "Company: chennai poles private limited\n",
      "Result: Request failed with status code 404\n",
      "\n"
     ]
    }
   ],
   "source": [
    "import pandas as pd\n",
    "import requests\n",
    "\n",
    "def send_request(company_name):\n",
    "    url = f\"https://www.knowyourgst.com/gst-number-search/by-name-pan/{company_name}/\"\n",
    "\n",
    "    try:\n",
    "        response = requests.get(url)\n",
    "        if response.status_code == 200:\n",
    "            return response.text\n",
    "        else:\n",
    "            return f\"Request failed with status code {response.status_code}\"\n",
    "    except requests.exceptions.RequestException as e:\n",
    "        return f\"An error occurred: {str(e)}\"\n",
    "\n",
    "if __name__ == \"__main__\":\n",
    "    excel_file_path = '/content/drive/My Drive/FILE1.xlsx'  # Replace with the path to your Excel file\n",
    "    df = pd.read_excel(excel_file_path, usecols=['NAME'])  # Assuming 'name' is the column containing company names\n",
    "    df['NAME'] = df['NAME'].str.lower()\n",
    "\n",
    "    for index, row in df.iterrows():\n",
    "        company_name = row['NAME']\n",
    "        result = send_request(company_name)\n",
    "        print(f\"Company: {company_name}\\nResult: {result}\\n\")\n"
   ]
  },
  {
   "cell_type": "code",
   "execution_count": 12,
   "metadata": {
    "colab": {
     "base_uri": "https://localhost:8080/"
    },
    "id": "_YbuJNZGhoII",
    "outputId": "ed323f0c-954a-4ccb-f937-9a9627c28f42"
   },
   "outputs": [
    {
     "name": "stdin",
     "output_type": "stream",
     "text": [
      "Enter the Business Name or GST Number:  sdsdf\n"
     ]
    }
   ],
   "source": [
    "if __name__ == \"__main__\":\n",
    "    url = \"https://www.knowyourgst.com/gst-number-search/by-name-pan/\"\n",
    "    input_data = input(\"Enter the Business Name or GST Number: \")\n",
    "    data = {'search_query': input_data}\n"
   ]
  },
  {
   "cell_type": "markdown",
   "metadata": {
    "id": "Fw_jda7pjEA_"
   },
   "source": []
  },
  {
   "cell_type": "code",
   "execution_count": 14,
   "metadata": {
    "colab": {
     "base_uri": "https://localhost:8080/"
    },
    "id": "KrS26PDohx9O",
    "outputId": "32a80988-9647-4e14-ac71-60f2c5be509a"
   },
   "outputs": [
    {
     "name": "stdin",
     "output_type": "stream",
     "text": [
      "Enter the company name:  CHENNAI POLYMER HOUSE\n"
     ]
    },
    {
     "name": "stdout",
     "output_type": "stream",
     "text": [
      "Address: Address not found.\n"
     ]
    }
   ],
   "source": [
    "import requests\n",
    "from bs4 import BeautifulSoup\n",
    "\n",
    "def extract_address(company_name, html_content):\n",
    "    soup = BeautifulSoup(html_content, 'html.parser')\n",
    "    rows = soup.find_all('tr')\n",
    "    for row in rows:\n",
    "        cells = row.find_all('td')\n",
    "        print(len(cells))\n",
    "        if len(cells) == 2:\n",
    "            header = cells[0].text.strip()\n",
    "            if header == \"Business Name\" and cells[1].text.strip() == company_name:\n",
    "                address_row = row.find_next_sibling('tr')\n",
    "                if address_row:\n",
    "                    address_cell = address_row.find('td')\n",
    "                    if address_cell:\n",
    "                        return address_cell.text.strip()\n",
    "    return \"Address not found.\"\n",
    "\n",
    "if __name__ == \"__main__\":\n",
    "    url = \"https://www.knowyourgst.com/gst-number-search/by-name-pan/\"\n",
    "    company_name = input(\"Enter the company name: \")\n",
    "    data = {'search_query': company_name}\n",
    "\n",
    "    try:\n",
    "        response = requests.post(url, data=data)\n",
    "        if response.status_code == 200:\n",
    "            address = extract_address(company_name, response.text)\n",
    "            print(\"Address:\", address)\n",
    "        else:\n",
    "            print(f\"Request failed with status code {response.status_code}\")\n",
    "    except requests.exceptions.RequestException as e:\n",
    "        print(f\"An error occurred: {str(e)}\")\n"
   ]
  },
  {
   "cell_type": "code",
   "execution_count": 16,
   "metadata": {
    "id": "NKZRQxPOoeY8"
   },
   "outputs": [],
   "source": [
    "url = \"https://www.knowyourgst.com/gst-number-search/hyundai-motor-india-limited-33AAACH2364M1ZM/\""
   ]
  },
  {
   "cell_type": "code",
   "execution_count": 18,
   "metadata": {
    "id": "AZfYOclpolK4"
   },
   "outputs": [],
   "source": [
    "import requests\n",
    "response = requests.get(url)"
   ]
  },
  {
   "cell_type": "code",
   "execution_count": 20,
   "metadata": {
    "id": "0B7xDN3mqkOx"
   },
   "outputs": [],
   "source": [
    "soup = BeautifulSoup(response.content)"
   ]
  },
  {
   "cell_type": "code",
   "execution_count": 23,
   "metadata": {
    "id": "WS5yjOVlq6sw"
   },
   "outputs": [],
   "source": [
    "rows = soup.find_all('tr')"
   ]
  },
  {
   "cell_type": "code",
   "execution_count": 25,
   "metadata": {
    "colab": {
     "base_uri": "https://localhost:8080/",
     "height": 35
    },
    "id": "5uWjqrlesKlN",
    "outputId": "ba0919b9-fd77-44f8-ad0c-4b97949e8b2c"
   },
   "outputs": [
    {
     "name": "stdout",
     "output_type": "stream",
     "text": [
      "0\n",
      "2\n",
      "2\n",
      "2\n",
      "2\n",
      "2\n",
      "2\n",
      "2\n",
      "2\n",
      "2\n",
      "0\n",
      "2\n",
      "2\n",
      "2\n",
      "2\n",
      "2\n",
      "2\n",
      "2\n",
      "2\n",
      "2\n",
      "2\n",
      "2\n",
      "2\n",
      "2\n",
      "2\n",
      "2\n",
      "2\n",
      "2\n",
      "2\n",
      "2\n",
      "2\n"
     ]
    },
    {
     "data": {
      "text/plain": [
       "'Address not found.'"
      ]
     },
     "execution_count": 25,
     "metadata": {},
     "output_type": "execute_result"
    }
   ],
   "source": [
    "extract_address(\"gcgvyvh\",response.content)"
   ]
  },
  {
   "cell_type": "code",
   "execution_count": 27,
   "metadata": {
    "id": "vLrYFsqesM4Z"
   },
   "outputs": [],
   "source": [
    "for i in range(len(rows)):\n",
    "  if rows[i] == '<td>Address</td>':\n",
    "    print(rows[i+1])\n",
    "    break"
   ]
  },
  {
   "cell_type": "code",
   "execution_count": 29,
   "metadata": {
    "colab": {
     "base_uri": "https://localhost:8080/",
     "height": 186
    },
    "id": "jdMNKACYteJd",
    "outputId": "37c990bb-b2d8-47e5-a766-4c42fd7ac483"
   },
   "outputs": [
    {
     "data": {
      "text/plain": [
       "bs4.element.Tag"
      ]
     },
     "execution_count": 29,
     "metadata": {},
     "output_type": "execute_result"
    }
   ],
   "source": [
    "type(rows[4])"
   ]
  },
  {
   "cell_type": "code",
   "execution_count": 31,
   "metadata": {
    "id": "4wbw_v-6uPlw"
   },
   "outputs": [],
   "source": [
    "req = soup.find('tbody')"
   ]
  },
  {
   "cell_type": "code",
   "execution_count": 33,
   "metadata": {
    "colab": {
     "base_uri": "https://localhost:8080/",
     "height": 35
    },
    "id": "jyvT0u3bvii-",
    "outputId": "0504c468-80c3-4655-fb58-3b98493d5ff5"
   },
   "outputs": [
    {
     "data": {
      "text/plain": [
       "'SIPCOT Industrial Park Plot No. H1  NH4 Irrungattukottai, Sriperumbudur Tamil Nadu\\n                                '"
      ]
     },
     "execution_count": 33,
     "metadata": {},
     "output_type": "execute_result"
    }
   ],
   "source": [
    "req.find_all('tr')[2].find_all('td')[1].text"
   ]
  }
 ],
 "metadata": {
  "colab": {
   "provenance": []
  },
  "kernelspec": {
   "display_name": "Python 3 (ipykernel)",
   "language": "python",
   "name": "python3"
  },
  "language_info": {
   "codemirror_mode": {
    "name": "ipython",
    "version": 3
   },
   "file_extension": ".py",
   "mimetype": "text/x-python",
   "name": "python",
   "nbconvert_exporter": "python",
   "pygments_lexer": "ipython3",
   "version": "3.11.7"
  }
 },
 "nbformat": 4,
 "nbformat_minor": 4
}
